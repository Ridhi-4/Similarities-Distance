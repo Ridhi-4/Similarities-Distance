{
 "cells": [
  {
   "cell_type": "code",
   "execution_count": 1,
   "metadata": {},
   "outputs": [
    {
     "name": "stdout",
     "output_type": "stream",
     "text": [
      "0.36 Jaccard Distance between JDSkills and ResumeSkills\n"
     ]
    }
   ],
   "source": [
    "import nltk\n",
    " \n",
    "Skills1= set(r\"C:\\Users\\user\\Downloads\\ResumeSkills.json\")\n",
    "Skills2 = set(r\"C:\\Users\\user\\Job Skills.json\")\n",
    "\n",
    " \n",
    "jd_Skills_1_2 = nltk.jaccard_distance(Skills1, Skills2)\n",
    "\n",
    " \n",
    " \n",
    "print(jd_Skills_1_2, 'Jaccard Distance between JDSkills and ResumeSkills')\n",
    "\n",
    " "
   ]
  },
  {
   "cell_type": "code",
   "execution_count": null,
   "metadata": {},
   "outputs": [],
   "source": []
  }
 ],
 "metadata": {
  "kernelspec": {
   "display_name": "Python 3",
   "language": "python",
   "name": "python3"
  },
  "language_info": {
   "codemirror_mode": {
    "name": "ipython",
    "version": 3
   },
   "file_extension": ".py",
   "mimetype": "text/x-python",
   "name": "python",
   "nbconvert_exporter": "python",
   "pygments_lexer": "ipython3",
   "version": "3.7.6"
  }
 },
 "nbformat": 4,
 "nbformat_minor": 4
}
